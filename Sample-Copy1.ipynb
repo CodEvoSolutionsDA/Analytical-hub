{
 "cells": [
  {
   "cell_type": "code",
   "execution_count": 28,
   "id": "2d5f0baf",
   "metadata": {},
   "outputs": [
    {
     "name": "stdout",
     "output_type": "stream",
     "text": [
      "    Review Date  Rating Sentiment                                  Key Points  \\\n",
      "0    2023-12-30     5.0  Positive                Quick Service,Delicious food   \n",
      "1    2023-12-29     4.0  Positive                 Fast Service,Great Ambiance   \n",
      "2    2023-12-28     2.0  Negative                      slow service,cold food   \n",
      "3    2023-12-27     3.0   Neutral                     Good Food,Good ambiance   \n",
      "4    2023-12-26     4.5  Positive                Great Ambiance,great service   \n",
      "..          ...     ...       ...                                         ...   \n",
      "179  2023-07-04     5.0  Positive            Excellent service, amazing pizza   \n",
      "180  2023-07-03     3.0   Netural                     Good Food,Good ambiance   \n",
      "181  2023-07-02     4.5  Positive  Good food,great ambiance,Excellent service   \n",
      "182  2023-07-01     4.0  Positive                     Great food,fast service   \n",
      "183  2023-06-30     5.0  Positive           Amazing brunch,Perfect atmosphere   \n",
      "\n",
      "                                 Frequent Words  \n",
      "0                  Delicious food,Great Service  \n",
      "1                   Fast Service,Great Ambiance  \n",
      "2                        slow service,cold food  \n",
      "3                       Good Food,Good ambiance  \n",
      "4                  Great Ambiance,great service  \n",
      "..                                          ...  \n",
      "179            Excellent service, amazing pizza  \n",
      "180                     Good Food,Good ambiance  \n",
      "181  Good food,great ambiance,Excellent service  \n",
      "182                     Great food,fast service  \n",
      "183           Amazing brunch,Perfect atmosphere  \n",
      "\n",
      "[184 rows x 5 columns]\n"
     ]
    }
   ],
   "source": [
    "import pandas as pd\n",
    "import matplotlib.pyplot as plt\n",
    "# Load the dataset\n",
    "data = pd.read_excel('restaurant_review_analysis.xlsx')\n",
    "print(data)\n",
    "\n"
   ]
  },
  {
   "cell_type": "code",
   "execution_count": 14,
   "id": "fb85b843",
   "metadata": {},
   "outputs": [
    {
     "name": "stdout",
     "output_type": "stream",
     "text": [
      "3.4510869565217392\n"
     ]
    }
   ],
   "source": [
    "#Calculate the average rating\n",
    "average_rating = data['Rating'].mean()\n",
    "print(average_rating)\n"
   ]
  },
  {
   "cell_type": "code",
   "execution_count": 15,
   "id": "2ccf9ce1",
   "metadata": {},
   "outputs": [
    {
     "name": "stdout",
     "output_type": "stream",
     "text": [
      "Positive    52.173913\n",
      "Negative    23.913043\n",
      "Netural     18.478261\n",
      "Neutral      5.434783\n",
      "Name: Sentiment, dtype: float64\n"
     ]
    }
   ],
   "source": [
    "# Summarize the overall customer sentiment\n",
    "sentiment_summary = data['Sentiment'].value_counts(normalize=True) * 100\n",
    "print(sentiment_summary)"
   ]
  },
  {
   "cell_type": "code",
   "execution_count": 16,
   "id": "d521f088",
   "metadata": {},
   "outputs": [
    {
     "name": "stdout",
     "output_type": "stream",
     "text": [
      "0                    Delicious food,Great Service\n",
      "1                     Fast Service,Great Ambiance\n",
      "4                    Great Ambiance,great service\n",
      "5                    Delicious food,Great Service\n",
      "8                      Qiuck service,Great coffee\n",
      "                          ...                    \n",
      "176                Amazing service,delicious food\n",
      "179              Excellent service, amazing pizza\n",
      "181    Good food,great ambiance,Excellent service\n",
      "182                       Great food,fast service\n",
      "183             Amazing brunch,Perfect atmosphere\n",
      "Name: Frequent Words, Length: 96, dtype: object\n",
      "2                  slow service,cold food\n",
      "6        Delayed service,average ambiance\n",
      "11                 slow service,cold food\n",
      "14       Delayed service,average ambiance\n",
      "20                 poor hygine,rude staff\n",
      "22           slow service,cold atmosphere\n",
      "23               over priced,slow service\n",
      "28                cold food ,slow service\n",
      "29           slow service,cold atmosphere\n",
      "31               Rude staff, delayed food\n",
      "36           Slow sevice,average ambiance\n",
      "37             Hot drinks,delayed service\n",
      "38              slow service,average food\n",
      "48                 expensive,slow service\n",
      "49                cold food ,slow service\n",
      "50            cold food ,average ambiance\n",
      "51           Slow sevice,average ambiance\n",
      "57                 slow service,cold food\n",
      "70          slow service,Noisy atmosphere\n",
      "71         slow service,clumsy atmosphere\n",
      "72                 poor hygine,rude staff\n",
      "74              slow service,average food\n",
      "84              slow service,delayed food\n",
      "85             bad food,unfriendlly staff\n",
      "86               over priced,slow service\n",
      "87                 poor food,slow service\n",
      "103                cold food,slow service\n",
      "104              rued staff,delayed staff\n",
      "105            bad food,unfriendlly staff\n",
      "106          slow service,cold atmosphere\n",
      "109                poor hygine,rude staff\n",
      "114             slow service,average food\n",
      "124         Noisy atmospehere,poor hygine\n",
      "135               cold food, slow service\n",
      "137               bad hygiene, rude staff\n",
      "140           rude staff, delayed service\n",
      "143         slow service, cold atmosphere\n",
      "147              overpriced, slow service\n",
      "151            bad food, unfriendly staff\n",
      "160               cold food,delay service\n",
      "161               hot drinks,slow service\n",
      "169                poor hygine,rude staff\n",
      "171    Unfriendly staff,poor food quality\n",
      "178               Rued staff,delayed food\n",
      "Name: Frequent Words, dtype: object\n"
     ]
    }
   ],
   "source": [
    "# Identify the most frequent positive and negative comments\n",
    "positive_comments = data[data['Sentiment'] == 'Positive']['Frequent Words']\n",
    "negative_comments = data[data['Sentiment'] == 'Negative']['Frequent Words']\n",
    "print(positive_comments)\n",
    "print(negative_comments)"
   ]
  },
  {
   "cell_type": "code",
   "execution_count": 18,
   "id": "b8aaf02f",
   "metadata": {},
   "outputs": [
    {
     "name": "stdout",
     "output_type": "stream",
     "text": [
      "great ambiance\n",
      "slow service\n"
     ]
    }
   ],
   "source": [
    "most_frequent_positive = positive_comments.str.split(',').explode().value_counts().idxmax()\n",
    "most_frequent_negative = negative_comments.str.split(',').explode().value_counts().idxmax()\n",
    "print(most_frequent_positive)\n",
    "print(most_frequent_negative)\n"
   ]
  },
  {
   "cell_type": "code",
   "execution_count": 19,
   "id": "33674223",
   "metadata": {},
   "outputs": [
    {
     "data": {
      "image/png": "[encoded data removed]",
      "text/plain": [
       "<Figure size 800x600 with 1 Axes>"
      ]
     },
     "metadata": {},
     "output_type": "display_data"
    }
   ],
   "source": [
    "# Generate a sentiment distribution pie chart\n",
    "plt.figure(figsize=(8, 6))\n",
    "plt.pie(sentiment_summary.values, labels=sentiment_summary.index, autopct='%1.1f%%', startangle=140, colors=['#66b3ff','#99ff99','#ffcc99', '#ff9999'])\n",
    "plt.title('Customer Sentiment Distribution')\n",
    "plt.axis('equal')\n",
    "chart_path = 'sentiment_pie_chart.png'\n",
    "plt.savefig(chart_path)\n",
    "plt.show()\n"
   ]
  },
  {
   "cell_type": "code",
   "execution_count": 29,
   "id": "db89399c",
   "metadata": {},
   "outputs": [
    {
     "name": "stdout",
     "output_type": "stream",
     "text": [
      "Average Rating:3.45\n",
      "Most Frequent Positive Comment:great ambiance\n",
      "Most Frequent Negative Comment:slow service\n"
     ]
    }
   ],
   "source": [
    "print(f\"Average Rating:{average_rating:.2f}\")\n",
    "print(f\"Most Frequent Positive Comment:{most_frequent_positive}\")\n",
    "print(f\"Most Frequent Negative Comment:{most_frequent_negative}\")\n"
   ]
  },
  {
   "cell_type": "code",
   "execution_count": null,
   "id": "5e123d74",
   "metadata": {},
   "outputs": [],
   "source": []
  }
 ],
 "metadata": {
  "kernelspec": {
   "display_name": "Python 3 (ipykernel)",
   "language": "python",
   "name": "python3"
  },
  "language_info": {
   "codemirror_mode": {
    "name": "ipython",
    "version": 3
   },
   "file_extension": ".py",
   "mimetype": "text/x-python",
   "name": "python",
   "nbconvert_exporter": "python",
   "pygments_lexer": "ipython3",
   "version": "3.11.4"
  }
 },
 "nbformat": 4,
 "nbformat_minor": 5
}
